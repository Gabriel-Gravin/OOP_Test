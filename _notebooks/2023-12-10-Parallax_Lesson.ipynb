{
 "cells": [
  {
   "cell_type": "markdown",
   "metadata": {},
   "source": [
    "---\n",
    "layout: base\n",
    "title: Parallax Lesson Plan\n",
    "type: ccc\n",
    "courses: { csse: {week: 14}, csp: {week: 14}, csa: {week: 14} }\n",
    "---"
   ]
  },
  {
   "cell_type": "markdown",
   "metadata": {},
   "source": [
    "# Intro\n",
    "Parallax scrolling occurs when there are different layers of backgrounds that move at different speeds in relation to the character to create a sense of depth. In other words, one thing is stationary while a background moves. Parallax scrolling can be beneficial by adding interest to an otherwise static website/game. Transitions from screen to screen and other transitions that happen when the user does something like press buttons, can also help the game feel smoother.\n",
    "\n",
    "Some cool examples of Parallax Scrolling and resources:\n",
    "- https://www.apple.com/airpods-pro/\n",
    "- https://www.tesla.com/\n",
    "- https://www.spacex.com/vehicles/falcon-9/\n",
    "- https://www.sketch.com/blog/what-is-a-parallax-effect/\n",
    "- https://webflow.com/blog/parallax-scrolling"
   ]
  },
  {
   "cell_type": "markdown",
   "metadata": {},
   "source": [
    "# Step 1\n",
    "\n",
    "Add the image into images/platformer/backgrounds. Then add the Background2.js into assets/js/platformer."
   ]
  },
  {
   "cell_type": "markdown",
   "metadata": {},
   "source": [
    "# Step 2\n",
    "\n",
    "Define mountains as a background image; do this in the main file 2023-11-27-CSSE-oop-game-levels.md and in assets within the background asset."
   ]
  },
  {
   "cell_type": "code",
   "execution_count": null,
   "metadata": {},
   "outputs": [],
   "source": [
    "mountains: { src: \"/images/platformer/backgrounds/mountains.jpg\"}"
   ]
  },
  {
   "cell_type": "markdown",
   "metadata": {},
   "source": [
    "Add the second background into the \"hills\" constructor."
   ]
  },
  {
   "cell_type": "code",
   "execution_count": null,
   "metadata": {},
   "outputs": [],
   "source": [
    "new GameLevel( {tag: \"hills\", background: assets.backgrounds.hills, background2: assets.backgrounds.mountains, platform: assets.platforms.grass, player: assets.players.mario, tube: assets.obstacles.tube, callback: testerCallBack } );"
   ]
  },
  {
   "cell_type": "markdown",
   "metadata": {},
   "source": [
    "Then go to the GameLevel.js file and add this to the constructor."
   ]
  },
  {
   "cell_type": "code",
   "execution_count": null,
   "metadata": {},
   "outputs": [],
   "source": [
    "this.backgroundImg2 = gameObject.background2?.file;"
   ]
  },
  {
   "cell_type": "markdown",
   "metadata": {},
   "source": [
    "Then we need to load the image using this code."
   ]
  },
  {
   "cell_type": "code",
   "execution_count": null,
   "metadata": {},
   "outputs": [],
   "source": [
    "if (this.backgroundImg2) {\n",
    "    imagesToLoad.push(this.loadImage(this.backgroundImg2));\n",
    "}"
   ]
  },
  {
   "cell_type": "markdown",
   "metadata": {},
   "source": [
    "After we load the code we then have to create the new background."
   ]
  },
  {
   "cell_type": "code",
   "execution_count": null,
   "metadata": {},
   "outputs": [],
   "source": [
    "if (this.backgroundImg2) {\n",
    "    const backgroundCanvas = document.createElement(\"canvas\");\n",
    "    backgroundCanvas.id = \"background\";\n",
    "    document.querySelector(\"#canvasContainer\").appendChild(backgroundCanvas);\n",
    "    const backgroundSpeedRatio = 0;\n",
    "    new Background2(backgroundCanvas, loadedImages[i], backgroundSpeedRatio);\n",
    "    i++;\n",
    "}"
   ]
  }
 ],
 "metadata": {
  "kernelspec": {
   "display_name": "Python 3",
   "language": "python",
   "name": "python3"
  },
  "language_info": {
   "codemirror_mode": {
    "name": "ipython",
    "version": 3
   },
   "file_extension": ".py",
   "mimetype": "text/x-python",
   "name": "python",
   "nbconvert_exporter": "python",
   "pygments_lexer": "ipython3",
   "version": "3.10.12"
  }
 },
 "nbformat": 4,
 "nbformat_minor": 2
}
